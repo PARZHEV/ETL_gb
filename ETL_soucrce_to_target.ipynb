{
 "cells": [
  {
   "cell_type": "code",
   "execution_count": null,
   "id": "58a8d8eb",
   "metadata": {},
   "outputs": [],
   "source": [
    "import psycopg2\n",
    "\n",
    "for table in ['customer', 'lineitem', 'nation', 'orders', 'part', 'partsupp', 'region', 'supplier']:\n",
    "    conn_string= \"host='localhost' port=5433 dbname='my_database' user='root' password='postgres'\" \n",
    "    with psycopg2.connect(conn_string) as conn, conn.cursor() as cursor:\n",
    "        q = f\"COPY {table} from STDIN WITH DELIMITER ',' CSV HEADER;\"\n",
    "        with open(f'{table}.csv', 'r') as f:\n",
    "            cursor.copy_expert(q, f)         \n",
    "    conn_string= \"host='localhost' port=5433 dbname='my_database' user='root' password='postgres'\" \n",
    "    with psycopg2.connect(conn_string) as conn, conn.cursor() as cursor:\n",
    "        q = f\"COPY {table} from STDIN WITH DELIMITER ',' CSV HEADER;\"\n",
    "        with open(f'{table}.csv', 'r') as f:\n",
    "            cursor.copy_expert(q, f)"
   ]
  }
 ],
 "metadata": {
  "kernelspec": {
   "display_name": "Python 3",
   "language": "python",
   "name": "python3"
  },
  "language_info": {
   "codemirror_mode": {
    "name": "ipython",
    "version": 3
   },
   "file_extension": ".py",
   "mimetype": "text/x-python",
   "name": "python",
   "nbconvert_exporter": "python",
   "pygments_lexer": "ipython3",
   "version": "3.8.8"
  }
 },
 "nbformat": 4,
 "nbformat_minor": 5
}
